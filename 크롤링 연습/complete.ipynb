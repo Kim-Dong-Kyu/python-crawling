{
 "cells": [
  {
   "cell_type": "code",
   "execution_count": 18,
   "metadata": {},
   "outputs": [],
   "source": [
    "def crawl(url) : \n",
    "    data = requests.get(url)\n",
    "#print(data, url)\n",
    "    return data.content\n"
   ]
  },
  {
   "cell_type": "code",
   "execution_count": 19,
   "metadata": {},
   "outputs": [
    {
     "name": "stdout",
     "output_type": "stream",
     "text": [
      "           kwh                cntr           amt  row_seq    hosu  unitcost\n",
      "0         9390     가구내고용,미분류자가소비생산       1341658        1      20     142.9\n",
      "1     18542644                건설업     2693314755        2    8880     145.2\n",
      "2     63895453  공공행정, 국방 및 사회보장 행정    7541356116        3    7372     118.0\n",
      "3     49214639                 광업     4768554570        4     397      96.9\n",
      "4     44777135             교육 서비스업    4639782744        5    6638     103.6\n",
      "5         3253           국제 및 외국기관        676622        6       3     208.0\n",
      "6      6833917           금융 및 보험업      900646058        7    1881     131.8\n",
      "7    120255731        농업, 임업 및 어업     6304147313        8  237466      52.4\n",
      "8     97525455            도매 및 소매업   10676226210        9   46035     109.5\n",
      "9     29024997     보건업 및 사회복지 서비스업    3242149737       10    7022     111.7\n",
      "10    97105197         부동산업 및 임대업    12505813536       11   61855     128.8\n",
      "11     5312989     사업시설관리,사업지원서비스업     733256700       12    5625     138.0\n",
      "12   124275788          숙박 및 음식점업    14257554489       13   58895     114.7\n",
      "13    38586748     예술,스포츠및여가관련서비스업    4759162427       14    7361     123.3\n",
      "14    64811361                 운수업    7122797134       15   14419     109.9\n",
      "15    64132174  전기, 가스, 증기 및 수도사업     6935286492       16   11139     108.1\n",
      "16     9201820   전문, 과학 및 기술 서비스업     1130194129       17    3116     122.8\n",
      "17  2026354707                제조업   178324225919       18   19484      88.0\n",
      "18    55023869     출판영상,방송통신정보서비스업    5123796580       19   23356      93.1\n",
      "19    44915421      하수폐기처리원료재생환경복원    4628269147       20    5170     103.0\n",
      "20    27160872     협회단체,수리기타개인서비스업    3783710516       21   19585     139.3\n"
     ]
    }
   ],
   "source": [
    "import requests\n",
    "from bs4 import BeautifulSoup\n",
    "import pandas as pd \n",
    "%matplotlib inline\n",
    "\n",
    "\n",
    "url = \"http://bigdata.kepco.co.kr/cmsmain.do?scode=S01&pcode=000167\" \n",
    "pageString = crawl(url)\n",
    "bsObj = BeautifulSoup(pageString, 'html.parser') \n",
    "\n",
    "#print(bsObj)\n",
    "df = pd.read_json(\"../python/data.json\", encoding='utf-8')\n",
    "\n",
    "print(df.head(21))\n"
   ]
  }
 ],
 "metadata": {
  "kernelspec": {
   "display_name": "Python 3",
   "language": "python",
   "name": "python3"
  },
  "language_info": {
   "codemirror_mode": {
    "name": "ipython",
    "version": 3
   },
   "file_extension": ".py",
   "mimetype": "text/x-python",
   "name": "python",
   "nbconvert_exporter": "python",
   "pygments_lexer": "ipython3",
   "version": "3.7.4"
  }
 },
 "nbformat": 4,
 "nbformat_minor": 2
}
