{
 "cells": [
  {
   "cell_type": "code",
   "execution_count": 2,
   "metadata": {},
   "outputs": [
    {
     "name": "stdout",
     "output_type": "stream",
     "text": [
      "공백구분1 2 3 4 5\n"
     ]
    },
    {
     "data": {
      "text/plain": [
       "['1', '2', '3', '4', '5']"
      ]
     },
     "execution_count": 2,
     "metadata": {},
     "output_type": "execute_result"
    }
   ],
   "source": [
    "number =input (\"공백구분\")\n",
    "number.split(\" \")"
   ]
  },
  {
   "cell_type": "code",
   "execution_count": 21,
   "metadata": {},
   "outputs": [
    {
     "name": "stdout",
     "output_type": "stream",
     "text": [
      "[1, 2, 3, 4, 5, 7, 8]\n"
     ]
    }
   ],
   "source": [
    " a =[1,2,3,4,5]\n",
    "a.append(7)\n",
    "a.append(8)\n",
    "print(a)"
   ]
  },
  {
   "cell_type": "code",
   "execution_count": 29,
   "metadata": {},
   "outputs": [
    {
     "data": {
      "text/plain": [
       "'a'"
      ]
     },
     "execution_count": 29,
     "metadata": {},
     "output_type": "execute_result"
    }
   ],
   "source": [
    "data = {1:\"a\", 2:\"b\"}\n",
    "data[1]"
   ]
  },
  {
   "cell_type": "code",
   "execution_count": 32,
   "metadata": {},
   "outputs": [
    {
     "data": {
      "text/plain": [
       "'{\"status\":\"success\",\"country\":\"South Korea\",\"countryCode\":\"KR\",\"region\":\"41\",\"regionName\":\"Gyeonggi-do\",\"city\":\"Seongnam-si\",\"zip\":\"13606\",\"lat\":37.3827,\"lon\":127.119,\"timezone\":\"Asia/Seoul\",\"isp\":\"NBP\",\"org\":\"\",\"as\":\"AS23576 NBP\",\"query\":\"210.89.160.88\"}'"
      ]
     },
     "execution_count": 32,
     "metadata": {},
     "output_type": "execute_result"
    }
   ],
   "source": [
    "import requests\n",
    "\n",
    "\n",
    "response=requests.get(\"http://ip-api.com/json/naver.com\")\n",
    "response\n",
    "response.text"
   ]
  },
  {
   "cell_type": "code",
   "execution_count": 33,
   "metadata": {},
   "outputs": [
    {
     "data": {
      "text/plain": [
       "{'status': 'success',\n",
       " 'country': 'South Korea',\n",
       " 'countryCode': 'KR',\n",
       " 'region': '41',\n",
       " 'regionName': 'Gyeonggi-do',\n",
       " 'city': 'Seongnam-si',\n",
       " 'zip': '13606',\n",
       " 'lat': 37.3827,\n",
       " 'lon': 127.119,\n",
       " 'timezone': 'Asia/Seoul',\n",
       " 'isp': 'NBP',\n",
       " 'org': '',\n",
       " 'as': 'AS23576 NBP',\n",
       " 'query': '210.89.160.88'}"
      ]
     },
     "execution_count": 33,
     "metadata": {},
     "output_type": "execute_result"
    }
   ],
   "source": [
    "import json\n",
    "json.loads(response.text)\n"
   ]
  },
  {
   "cell_type": "code",
   "execution_count": 50,
   "metadata": {},
   "outputs": [],
   "source": [
    "import webbrowser as web\n",
    "import time\n",
    "\n",
    "list_url =[\n",
    "    \"https://www.naver.com/\",\n",
    "    \"https://www.google.com/\"\n",
    "]\n",
    "for i in range(5):\n",
    " for url in list_url :\n",
    "    web.open(url)\n",
    "    time.sleep(2)"
   ]
  },
  {
   "cell_type": "code",
   "execution_count": 54,
   "metadata": {},
   "outputs": [
    {
     "name": "stdout",
     "output_type": "stream",
     "text": [
      "0\n",
      "1\n",
      "2\n",
      "3\n",
      "4\n",
      "5\n",
      "6\n",
      "7\n",
      "8\n",
      "9\n"
     ]
    }
   ],
   "source": [
    "for a in range(100) :\n",
    "    if a == 10:\n",
    "        break\n",
    "    print(a)\n",
    "    continue\n",
    "    break "
   ]
  },
  {
   "cell_type": "code",
   "execution_count": 63,
   "metadata": {},
   "outputs": [
    {
     "name": "stdout",
     "output_type": "stream",
     "text": [
      "\r\n",
      "\r\n",
      "\r\n",
      "\r\n",
      "\r\n",
      "\r\n",
      "\r\n",
      "<!DOCTYPE html>\r\n",
      " \r\n",
      "<html>\r\n",
      "\t<head>\r\n",
      "\t\t<link rel=\"stylesheet\" type=\"text/css\" href=\"./css/mainStyle.css\">\t\r\n",
      "\t\t<meta http-equiv=\"Content-Type\" content=\"text/html; charset=UTF-8\">\r\n",
      "\t\t<title>컴잘알</title>\r\n",
      "\t</head>\r\n",
      "\t<body>\r\n",
      "\t\t<div id=\"mainBox\">\r\n",
      "\t\t\t<div id=\"titleBox\">\r\n",
      "\t\t\t\t<a href=\"./main.jsp\">컴잘알</a>\r\n",
      "\t\t\t</div>\r\n",
      "\t\t\t<div id=\"navigationBox\">\r\n",
      "\t\t\t\t\r\n",
      "\t\t\t\t\t\t<a href=\"./member/memberLoginForm.jsp\" class=\"basicButton\">로그인</a>\r\n",
      "\t\t\t\t\t\t<a href=\"./member/memberJoinForm.jsp\" class=\"basicButton\">회원가입</a>\r\n",
      "\t\t\t\t\r\n",
      "\t\t\t\t\t<a href=\"./study/study.jsp\" class=\"basicButton\">공부방</a>\r\n",
      "\t\t\t\t\t<a href=\"./talk/talkListForm.jsp\" class=\"basicButton\">대화방</a>\r\n",
      "\t\t\t\t\t<a href=\"./notice/noticeListForm.jsp\" class=\"basicButton\">공지사항</a>\r\n",
      "\t\t\t</div>\r\n",
      "\t\t\t<hr style=\"border: 2px solid black;\">\r\n",
      "\t\t\t<div class=\"slideshow-container\"><br>\r\n",
      "\t\t\t  <div class=\"mySlides fade\">\r\n",
      "\t\t\t    <img src=\"./image/mainOne.jpg\" style=\"width:100%\">\r\n",
      "\t\t\t  </div>\r\n",
      "\t\t\t  <div class=\"mySlides fade\">\r\n",
      "\t\t\t    <img src=\"./image/mainTwo.jpg\" style=\"width:100%\">\r\n",
      "\t\t\t  </div>\r\n",
      "\t\t\t  <div class=\"mySlides fade\">\r\n",
      "\t\t\t    <img src=\"./image/mainThree.jpg\" style=\"width:100%\">\r\n",
      "\t\t\t  </div>\r\n",
      "\t\t\t  <a class=\"prev\" onclick=\"plusSlides(-1)\">&#10094;</a>\r\n",
      "\t\t\t  <a class=\"next\" onclick=\"plusSlides(1)\">&#10095;</a>\r\n",
      "\t\t\t</div>\r\n",
      "\t\t\t<br>\r\n",
      "\t\t\t<div style=\"text-align:center\">\r\n",
      "\t\t\t  <span class=\"dot\" onclick=\"currentSlide(1)\"></span> \r\n",
      "\t\t\t  <span class=\"dot\" onclick=\"currentSlide(2)\"></span> \r\n",
      "\t\t\t  <span class=\"dot\" onclick=\"currentSlide(3)\"></span> \r\n",
      "\t\t\t</div>\r\n",
      "\t\t\t<script>\r\n",
      "\t\t\t\tvar slideIndex = 1;\r\n",
      "\t\t\t\tshowSlides(slideIndex);\r\n",
      "\t\t\t\t\r\n",
      "\t\t\t\tfunction plusSlides(n) {\r\n",
      "\t\t\t\t  showSlides(slideIndex += n);\r\n",
      "\t\t\t\t}\r\n",
      "\t\t\t\t\r\n",
      "\t\t\t\tfunction currentSlide(n) {\r\n",
      "\t\t\t\t  showSlides(slideIndex = n);\r\n",
      "\t\t\t\t}\r\n",
      "\t\t\t\t\r\n",
      "\t\t\t\tfunction showSlides(n) {\r\n",
      "\t\t\t\t  var i;\r\n",
      "\t\t\t\t  var slides = document.getElementsByClassName(\"mySlides\");\r\n",
      "\t\t\t\t  var dots = document.getElementsByClassName(\"dot\");\r\n",
      "\t\t\t\t  if (n > slides.length) {slideIndex = 1} \r\n",
      "\t\t\t\t  if (n < 1) {slideIndex = slides.length}\r\n",
      "\t\t\t\t  for (i = 0; i < slides.length; i++) {\r\n",
      "\t\t\t\t      slides[i].style.display = \"none\"; \r\n",
      "\t\t\t\t  }\r\n",
      "\t\t\t\t  for (i = 0; i < dots.length; i++) {\r\n",
      "\t\t\t\t      dots[i].className = dots[i].className.replace(\" active\", \"\");\r\n",
      "\t\t\t\t  }\r\n",
      "\t\t\t\t  slides[slideIndex-1].style.display = \"block\"; \r\n",
      "\t\t\t\t  dots[slideIndex-1].className += \" active\";\r\n",
      "\t\t\t\t}\r\n",
      "\t\t\t</script>\r\n",
      "\t\t\t<br>\r\n",
      "\t\t\t<div id=\"viewBox\">\r\n",
      "\t\t\t\t<table>\r\n",
      "\t\t        \t<tr>\r\n",
      "\t\t        \t\t<td class=\"head\" colspan=\"4\">\r\n",
      "\t\t        \t\t\t최근 공지사항\r\n",
      "\t\t        \t\t</td>\r\n",
      "\t\t        \t</tr>\t\t\t\t\r\n",
      "\t\t\t\t    <tr>\r\n",
      "\t\t\t\t        <td class=\"middle\">\r\n",
      "\t\t\t\t        \t아이디\r\n",
      "\t\t\t\t        </td>\r\n",
      "\t\t\t\t        <td class=\"middle\" style=\"width: 320px;\">\r\n",
      "\t\t\t\t        \t제목\r\n",
      "\t\t\t\t        </td>\r\n",
      "\t\t\t\t        <td class=\"middle\" style=\"width: 180px;\">\r\n",
      "\t\t\t\t        \t게시글 등록일\r\n",
      "\t\t\t\t        </td>\t\t \t\t        \t        \t\t        \t\t        \r\n",
      "\t\t\t\t    </tr>\r\n",
      "\t\t\t\t     \r\n",
      "\t\t\t\t    <tr> \r\n",
      "\t\t\t\t    \t<td class=\"tail\" style=\"text-align: center;\">나동빈</td>\r\n",
      "\t\t\t\t    \t<td class=\"tail\"><a href=\"./notice/noticeViewForm.jsp?noticeID=4\"><b>자바 기초 프로그래밍 강좌를 완강했습니다.</b></a></td>\r\n",
      "\t\t\t\t    \t<td class=\"tail\" style=\"text-align: center;\">2017-05-02\r\n",
      "\t\t\t\t    </tr>\r\n",
      "\t\t\t\t \r\n",
      "\t\t\t\t    <tr> \r\n",
      "\t\t\t\t    \t<td class=\"tail\" style=\"text-align: center;\">나동빈</td>\r\n",
      "\t\t\t\t    \t<td class=\"tail\"><a href=\"./notice/noticeViewForm.jsp?noticeID=1\"><b>컴잘알에 오신 것을 환영합니다.</b></a></td>\r\n",
      "\t\t\t\t    \t<td class=\"tail\" style=\"text-align: center;\">2016-11-28\r\n",
      "\t\t\t\t    </tr>\r\n",
      "\t\t\t\t \r\n",
      "\t\t\t\t</table>\t\t\t\r\n",
      "\t\t\t</div>\t\r\n",
      "\t\t\t<div class=\"studyViewBox\">\r\n",
      "\t\t\t\t<table>\r\n",
      "\t\t        \t<tr>\r\n",
      "\t\t        \t\t<td class=\"head\" colspan=\"3\">\r\n",
      "\t\t        \t\t\t최근 강의\r\n",
      "\t\t        \t\t</td>\r\n",
      "\t\t        \t</tr>\t\t\t\t\r\n",
      "\t\t\t\t    <tr>\r\n",
      "\t\t\t\t        <td class=\"middle\">\r\n",
      "\t\t\t\t        \t선생님\r\n",
      "\t\t\t\t        </td>\r\n",
      "\t\t\t\t        <td class=\"middle\" style=\"width: 560px;\">\r\n",
      "\t\t\t\t        \t제목\r\n",
      "\t\t\t\t        </td>\r\n",
      "\t\t\t\t        <td class=\"middle\" style=\"width: 180px;\">\r\n",
      "\t\t\t\t        \t게시글 등록일\r\n",
      "\t\t\t\t        </td>\t\t \t\t        \t        \t\t        \t\t        \r\n",
      "\t\t\t\t    </tr>\r\n",
      "\t\t\t\t     \r\n",
      "\t\t\t\t    <tr> \r\n",
      "\t\t\t\t    \t<td class=\"tail\" style=\"text-align: center;\">나동빈</td>\r\n",
      "\t\t\t\t    \t<td class=\"tail\"><a href=\"./study/study.jsp?studyID=85\"><b>C언어 기초 프로그래밍 강좌 20강 - 동적 메모리의 활용 (C Programming Tutorial For Beginners 2017 #20) </b></a></td>\r\n",
      "\t\t\t\t    \t<td class=\"tail\" style=\"text-align: center;\">2017-05-15\r\n",
      "\t\t\t\t    </tr>\r\n",
      "\t\t\t\t \r\n",
      "\t\t\t\t    <tr> \r\n",
      "\t\t\t\t    \t<td class=\"tail\" style=\"text-align: center;\">나동빈</td>\r\n",
      "\t\t\t\t    \t<td class=\"tail\"><a href=\"./study/study.jsp?studyID=84\"><b>C언어 기초 프로그래밍 강좌 19강 - 동적 메모리 (C Programming Tutorial For Beginners 2017 #19) </b></a></td>\r\n",
      "\t\t\t\t    \t<td class=\"tail\" style=\"text-align: center;\">2017-05-15\r\n",
      "\t\t\t\t    </tr>\r\n",
      "\t\t\t\t \r\n",
      "\t\t\t\t    <tr> \r\n",
      "\t\t\t\t    \t<td class=\"tail\" style=\"text-align: center;\">나동빈</td>\r\n",
      "\t\t\t\t    \t<td class=\"tail\"><a href=\"./study/study.jsp?studyID=83\"><b>C언어 기초 프로그래밍 강좌 18강 - 파일 입출력 (C Programming Tutorial For Beginners 2017 #18) </b></a></td>\r\n",
      "\t\t\t\t    \t<td class=\"tail\" style=\"text-align: center;\">2017-05-15\r\n",
      "\t\t\t\t    </tr>\r\n",
      "\t\t\t\t \r\n",
      "\t\t\t\t    <tr> \r\n",
      "\t\t\t\t    \t<td class=\"tail\" style=\"text-align: center;\">나동빈</td>\r\n",
      "\t\t\t\t    \t<td class=\"tail\"><a href=\"./study/study.jsp?studyID=82\"><b>C언어 기초 프로그래밍 강좌 17강 - 구조체의 활용 ② (C Programming Tutorial For Beginners 2017 #17) </b></a></td>\r\n",
      "\t\t\t\t    \t<td class=\"tail\" style=\"text-align: center;\">2017-05-15\r\n",
      "\t\t\t\t    </tr>\r\n",
      "\t\t\t\t \r\n",
      "\t\t\t\t    <tr> \r\n",
      "\t\t\t\t    \t<td class=\"tail\" style=\"text-align: center;\">나동빈</td>\r\n",
      "\t\t\t\t    \t<td class=\"tail\"><a href=\"./study/study.jsp?studyID=81\"><b>C언어 기초 프로그래밍 강좌 16강 - 구조체의 활용 ① (C Programming Tutorial For Beginners 2017 #16) </b></a></td>\r\n",
      "\t\t\t\t    \t<td class=\"tail\" style=\"text-align: center;\">2017-05-15\r\n",
      "\t\t\t\t    </tr>\r\n",
      "\t\t\t\t \r\n",
      "\t\t\t\t</table>\r\n",
      "\t\t\t</div>\t\r\n",
      "\t\t</div>\t\r\n",
      "\t</body>\r\n",
      "</html>\t                \t\n",
      "자바 기초 프로그래밍 강좌를 완강했습니다.\n",
      "컴잘알에 오신 것을 환영합니다.\n"
     ]
    }
   ],
   "source": [
    "import requests as rq\n",
    "from bs4 import BeautifulSoup as bs\n",
    "pass\n",
    "\n",
    "request = rq.get(\"http://dowellcomputer.com/main.jsp\")\n",
    "html = request.text\n",
    "print (html)\n",
    "\n",
    "soup= bs(html,\"html.parser\")\n",
    "\n",
    "links = soup.select(\"td>a\")\n",
    "\n",
    "for link in links:\n",
    "    if link.has_attr(\"href\"):\n",
    "        if link.get('href').find('notice')!= -1: \n",
    "            print(link.text)"
   ]
  },
  {
   "cell_type": "code",
   "execution_count": 67,
   "metadata": {},
   "outputs": [],
   "source": [
    "import pandas as pd "
   ]
  },
  {
   "cell_type": "code",
   "execution_count": 73,
   "metadata": {},
   "outputs": [
    {
     "ename": "TypeError",
     "evalue": "__init__() got an unexpected keyword argument 'col'",
     "output_type": "error",
     "traceback": [
      "\u001b[1;31m---------------------------------------------------------------------------\u001b[0m",
      "\u001b[1;31mTypeError\u001b[0m                                 Traceback (most recent call last)",
      "\u001b[1;32m<ipython-input-73-547199405da7>\u001b[0m in \u001b[0;36m<module>\u001b[1;34m\u001b[0m\n\u001b[0;32m      6\u001b[0m \u001b[1;32mfor\u001b[0m \u001b[0mcolum\u001b[0m \u001b[1;32min\u001b[0m \u001b[0mcol\u001b[0m \u001b[1;33m:\u001b[0m\u001b[1;33m\u001b[0m\u001b[1;33m\u001b[0m\u001b[0m\n\u001b[0;32m      7\u001b[0m  \u001b[0mcollist\u001b[0m\u001b[1;33m.\u001b[0m\u001b[0mappend\u001b[0m\u001b[1;33m(\u001b[0m\u001b[0mcolum\u001b[0m\u001b[1;33m.\u001b[0m\u001b[0mtext\u001b[0m\u001b[1;33m)\u001b[0m\u001b[1;33m\u001b[0m\u001b[1;33m\u001b[0m\u001b[0m\n\u001b[1;32m----> 8\u001b[1;33m \u001b[0mdf\u001b[0m \u001b[1;33m=\u001b[0m \u001b[0mpd\u001b[0m\u001b[1;33m.\u001b[0m\u001b[0mDataFrame\u001b[0m\u001b[1;33m(\u001b[0m\u001b[0mcol\u001b[0m\u001b[1;33m=\u001b[0m\u001b[0mcollist\u001b[0m\u001b[1;33m)\u001b[0m\u001b[1;33m\u001b[0m\u001b[1;33m\u001b[0m\u001b[0m\n\u001b[0m\u001b[0;32m      9\u001b[0m \u001b[1;33m\u001b[0m\u001b[0m\n\u001b[0;32m     10\u001b[0m \u001b[1;33m\u001b[0m\u001b[0m\n",
      "\u001b[1;31mTypeError\u001b[0m: __init__() got an unexpected keyword argument 'col'"
     ]
    }
   ],
   "source": [
    "req = rq.get(\"https://www.data.go.kr/dataset/15031941/fileData.do\")\n",
    "ht = req.text \n",
    "so = BeautifulSoup(html, \"html.parser\")\n",
    "col = so.select(\"div.table-responsive > table > thead > tr> th\")\n",
    "collist =[]\n",
    "for colum in col:\n",
    " collist.append(colum.text)\n",
    "df = pd.DataFrame(col=collist)\n",
    "                   \n",
    "                   \n"
   ]
  },
  {
   "cell_type": "code",
   "execution_count": 1,
   "metadata": {},
   "outputs": [
    {
     "name": "stdout",
     "output_type": "stream",
     "text": [
      "Collecting pymysql\n",
      "  Using cached https://files.pythonhosted.org/packages/ed/39/15045ae46f2a123019aa968dfcba0396c161c20f855f11dea6796bcaae95/PyMySQL-0.9.3-py2.py3-none-any.whl\n",
      "Installing collected packages: pymysql\n",
      "Successfully installed pymysql-0.9.3\n",
      "Note: you may need to restart the kernel to use updated packages.\n"
     ]
    }
   ],
   "source": [
    "pip install pymysql"
   ]
  },
  {
   "cell_type": "code",
   "execution_count": 2,
   "metadata": {},
   "outputs": [],
   "source": [
    "import pymysql"
   ]
  },
  {
   "cell_type": "code",
   "execution_count": null,
   "metadata": {},
   "outputs": [],
   "source": []
  }
 ],
 "metadata": {
  "kernelspec": {
   "display_name": "Python 3",
   "language": "python",
   "name": "python3"
  },
  "language_info": {
   "codemirror_mode": {
    "name": "ipython",
    "version": 3
   },
   "file_extension": ".py",
   "mimetype": "text/x-python",
   "name": "python",
   "nbconvert_exporter": "python",
   "pygments_lexer": "ipython3",
   "version": "3.7.4"
  }
 },
 "nbformat": 4,
 "nbformat_minor": 2
}
