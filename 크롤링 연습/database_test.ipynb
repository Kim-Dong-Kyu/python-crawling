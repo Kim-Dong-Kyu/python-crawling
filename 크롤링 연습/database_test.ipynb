{
 "cells": [
  {
   "cell_type": "code",
   "execution_count": 1,
   "metadata": {},
   "outputs": [
    {
     "ename": "SyntaxError",
     "evalue": "invalid syntax (<ipython-input-1-84287b676db6>, line 35)",
     "output_type": "error",
     "traceback": [
      "\u001b[1;36m  File \u001b[1;32m\"<ipython-input-1-84287b676db6>\"\u001b[1;36m, line \u001b[1;32m35\u001b[0m\n\u001b[1;33m    for i in range(0,21) :\u001b[0m\n\u001b[1;37m                         ^\u001b[0m\n\u001b[1;31mSyntaxError\u001b[0m\u001b[1;31m:\u001b[0m invalid syntax\n"
     ]
    }
   ],
   "source": [
    "from urllib.request import urlopen\n",
    "from urllib.request import HTTPError\n",
    "from bs4 import BeautifulSoup\n",
    "import re\n",
    "import pymysql\n",
    "\n",
    "\n",
    "try : \n",
    "    url = urlopen(\"http://bigdata.kepco.co.kr/cmsmain.do?scode=S01&pcode=000167\")\n",
    "except HTTPError as e :\n",
    "    print(e)\n",
    "else  : \n",
    "    bs = BeautifulSoup(url.read(), \"html.parser\")\n",
    "    \n",
    "    namelist = [\"leg1\",\"leg2\",\"leg3\",\"leg4\",\"leg5\",\"leg6\",\"leg7\",\"leg8\",\"leg9\",\"leg10\",\"leg11\",\"leg12\",\"leg13\",\"leg14\",\n",
    "    \"leg15\",\"leg16\",\"leg17\",\"leg18\",\"leg19\",\"leg20\",\"leg21\"]\n",
    "    \n",
    "    def delete_tag(name): \n",
    "          name = re.sub('<span.+?<b','',name,0)\n",
    "          name = re.sub('</b.+?</span>','',name,0)\n",
    "          name = re.sub('< b=\"\">','',name,0)\n",
    "          name = re.sub(' <=\"\" b=\"\">','',name,0)\n",
    "          name = re.sub(' b=\"\" ','',name,0)\n",
    "          name = re.sub('=\"\" ','',name,0)\n",
    "          name = re.sub('<=\"\">','',name,0)\n",
    "          name = re.sub(' <=\"\"','',name,0)\n",
    "          name = re.sub('=\"\">', '',name,0)\n",
    "          return name\n",
    "    \n",
    "    \n",
    "data_list =[]\n",
    "for i in range(0,21) : \n",
    "    data_list.insert(i,delete_tag(str(bs.find('span', class_=namelist[i])))\n",
    "\n",
    "for i in range(0,21) : \n",
    "    print(data_list[i])\n",
    "    \n",
    "conn =pymysql.connect(host=\"127.0.0.1\", user='root', password='vetec3721' ,db='test', charset='UTF-8')\n",
    "\n",
    "try : \n",
    "    curs = conn.cursor()\n",
    "    \n",
    "    sql =\"insert into crawling_dataporum('name') values(%s)\"\n",
    "    \n",
    "    \n",
    "    for i in range(0,21) : \n",
    "        curs.execute(sql, data_list[i])\n",
    "        \n",
    "    conn.commit()\n",
    "    print(\"Success\")\n",
    "finally : \n",
    "    conn.close()\n"
   ]
  },
  {
   "cell_type": "code",
   "execution_count": 6,
   "metadata": {},
   "outputs": [
    {
     "ename": "NameError",
     "evalue": "name 'data_list' is not defined",
     "output_type": "error",
     "traceback": [
      "\u001b[1;31m---------------------------------------------------------------------------\u001b[0m",
      "\u001b[1;31mNameError\u001b[0m                                 Traceback (most recent call last)",
      "\u001b[1;32m<ipython-input-6-50affe6c6c4d>\u001b[0m in \u001b[0;36m<module>\u001b[1;34m\u001b[0m\n\u001b[1;32m----> 1\u001b[1;33m \u001b[0mprint\u001b[0m\u001b[1;33m(\u001b[0m\u001b[0mdata_list\u001b[0m\u001b[1;33m[\u001b[0m\u001b[1;36m0\u001b[0m\u001b[1;33m]\u001b[0m\u001b[1;33m)\u001b[0m\u001b[1;33m\u001b[0m\u001b[1;33m\u001b[0m\u001b[0m\n\u001b[0m",
      "\u001b[1;31mNameError\u001b[0m: name 'data_list' is not defined"
     ]
    }
   ],
   "source": [
    "print(data_list[0])"
   ]
  },
  {
   "cell_type": "code",
   "execution_count": 5,
   "metadata": {},
   "outputs": [
    {
     "ename": "NameError",
     "evalue": "name 'delete_tag' is not defined",
     "output_type": "error",
     "traceback": [
      "\u001b[1;31m---------------------------------------------------------------------------\u001b[0m",
      "\u001b[1;31mNameError\u001b[0m                                 Traceback (most recent call last)",
      "\u001b[1;32m<ipython-input-5-0166d7901a1e>\u001b[0m in \u001b[0;36m<module>\u001b[1;34m\u001b[0m\n\u001b[1;32m----> 1\u001b[1;33m \u001b[0mprint\u001b[0m\u001b[1;33m(\u001b[0m\u001b[0mdelete_tag\u001b[0m\u001b[1;33m(\u001b[0m\u001b[0mdata_list\u001b[0m\u001b[1;33m[\u001b[0m\u001b[1;36m10\u001b[0m\u001b[1;33m]\u001b[0m\u001b[1;33m)\u001b[0m\u001b[1;33m)\u001b[0m\u001b[1;33m\u001b[0m\u001b[1;33m\u001b[0m\u001b[0m\n\u001b[0m",
      "\u001b[1;31mNameError\u001b[0m: name 'delete_tag' is not defined"
     ]
    }
   ],
   "source": []
  },
  {
   "cell_type": "code",
   "execution_count": null,
   "metadata": {},
   "outputs": [],
   "source": []
  }
 ],
 "metadata": {
  "kernelspec": {
   "display_name": "Python 3",
   "language": "python",
   "name": "python3"
  },
  "language_info": {
   "codemirror_mode": {
    "name": "ipython",
    "version": 3
   },
   "file_extension": ".py",
   "mimetype": "text/x-python",
   "name": "python",
   "nbconvert_exporter": "python",
   "pygments_lexer": "ipython3",
   "version": "3.7.4"
  }
 },
 "nbformat": 4,
 "nbformat_minor": 2
}
