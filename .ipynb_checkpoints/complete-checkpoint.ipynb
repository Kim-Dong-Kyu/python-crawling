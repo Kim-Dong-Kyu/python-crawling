{
 "cells": [
  {
   "cell_type": "code",
   "execution_count": 10,
   "metadata": {},
   "outputs": [],
   "source": [
    "def crawl(url) : \n",
    "    data = requests.get(url)\n",
    "    print(data, url)\n",
    "    return data.content\n"
   ]
  },
  {
   "cell_type": "code",
   "execution_count": 11,
   "metadata": {},
   "outputs": [
    {
     "name": "stdout",
     "output_type": "stream",
     "text": [
      "<Response [200]> http://bigdata.kepco.co.kr/cmsmain.do?scode=S01&pcode=000167\n",
      "           kwh                           cntr           amt  row_seq    hosu  \\\n",
      "0         9390       媛�援щ궡怨좎슜,誘몃텇瑜섏옄媛��냼鍮꾩깮�궛       1341658        1      20   \n",
      "1     18542644                         嫄댁꽕�뾽     2693314755        2    8880   \n",
      "2     63895453  怨듦났�뻾�젙, 援�諛� 諛� �궗�쉶蹂댁옣 �뻾�젙    7541356116        3    7372   \n",
      "3     49214639                           愿묒뾽     4768554570        4     397   \n",
      "4     44777135                    援먯쑁 �꽌鍮꾩뒪�뾽    4639782744        5    6638   \n",
      "5         3253               援��젣 諛� �쇅援�湲곌��        676622        6       3   \n",
      "6      6833917                  湲덉쑖 諛� 蹂댄뿕�뾽      900646058        7    1881   \n",
      "7    120255731            �냽�뾽, �엫�뾽 諛� �뼱�뾽     6304147313        8  237466   \n",
      "8     97525455                  �룄留� 諛� �냼留ㅼ뾽   10676226210        9   46035   \n",
      "9     29024997      蹂닿굔�뾽 諛� �궗�쉶蹂듭�� �꽌鍮꾩뒪�뾽    3242149737       10    7022   \n",
      "10    97105197           遺��룞�궛�뾽 諛� �엫����뾽    12505813536       11   61855   \n",
      "11     5312989   �궗�뾽�떆�꽕愿�由�,�궗�뾽吏��썝�꽌鍮꾩뒪�뾽     733256700       12    5625   \n",
      "12   124275788              �닕諛� 諛� �쓬�떇�젏�뾽    14257554489       13   58895   \n",
      "13    38586748    �삁�닠,�뒪�룷痢좊컦�뿬媛�愿��젴�꽌鍮꾩뒪�뾽    4759162427       14    7361   \n",
      "14    64811361                         �슫�닔�뾽    7122797134       15   14419   \n",
      "15    64132174   �쟾湲�, 媛��뒪, 利앷린 諛� �닔�룄�궗�뾽     6935286492       16   11139   \n",
      "16     9201820      �쟾臾�, 怨쇳븰 諛� 湲곗닠 �꽌鍮꾩뒪�뾽     1130194129       17    3116   \n",
      "17  2026354707                         �젣議곗뾽   178324225919       18   19484   \n",
      "18    55023869      異쒗뙋�쁺�긽,諛⑹넚�넻�떊�젙蹂댁꽌鍮꾩뒪�뾽    5123796580       19   23356   \n",
      "19    44915421       �븯�닔�룓湲곗쿂由ъ썝猷뚯옱�깮�솚寃쎈났�썝    4628269147       20    5170   \n",
      "20    27160872    �삊�쉶�떒泥�,�닔由ш린���媛쒖씤�꽌鍮꾩뒪�뾽    3783710516       21   19585   \n",
      "\n",
      "    unitcost  \n",
      "0      142.9  \n",
      "1      145.2  \n",
      "2      118.0  \n",
      "3       96.9  \n",
      "4      103.6  \n",
      "5      208.0  \n",
      "6      131.8  \n",
      "7       52.4  \n",
      "8      109.5  \n",
      "9      111.7  \n",
      "10     128.8  \n",
      "11     138.0  \n",
      "12     114.7  \n",
      "13     123.3  \n",
      "14     109.9  \n",
      "15     108.1  \n",
      "16     122.8  \n",
      "17      88.0  \n",
      "18      93.1  \n",
      "19     103.0  \n",
      "20     139.3  \n"
     ]
    }
   ],
   "source": [
    "import requests\n",
    "from bs4 import BeautifulSoup\n",
    "import pandas as pd \n",
    "%matplotlib inline\n",
    "\n",
    "\n",
    "url = \"http://bigdata.kepco.co.kr/cmsmain.do?scode=S01&pcode=000167\" \n",
    "pageString = crawl(url)\n",
    "bsObj = BeautifulSoup(pageString, 'html.parser') \n",
    "#print(bsObj)\n",
    "df = pd.read_json(\"../python/data.json\")\n",
    "print(df.head(21))\n"
   ]
  }
 ],
 "metadata": {
  "kernelspec": {
   "display_name": "Python 3",
   "language": "python",
   "name": "python3"
  },
  "language_info": {
   "codemirror_mode": {
    "name": "ipython",
    "version": 3
   },
   "file_extension": ".py",
   "mimetype": "text/x-python",
   "name": "python",
   "nbconvert_exporter": "python",
   "pygments_lexer": "ipython3",
   "version": "3.7.4"
  }
 },
 "nbformat": 4,
 "nbformat_minor": 2
}
