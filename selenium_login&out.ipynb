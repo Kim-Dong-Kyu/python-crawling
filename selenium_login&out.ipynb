{
 "cells": [
  {
   "cell_type": "code",
   "execution_count": 24,
   "metadata": {},
   "outputs": [],
   "source": [
    "from selenium import webdriver\n",
    "from time import sleep"
   ]
  },
  {
   "cell_type": "code",
   "execution_count": 13,
   "metadata": {},
   "outputs": [],
   "source": [
    "rootPath=\"..\"\n",
    "driver = webdriver.Chrome(\n",
    " executable_path =\"../python/chromedriver.exe\"   \n",
    ")\n",
    "\n",
    "url = \"https://www.facebook.com/\"\n",
    "driver.get(url) # enter와 동일 \n",
    "\n",
    "driver.find_element_by_id('email').send_keys('01050442318')\n",
    "driver.find_element_by_id('pass').send_keys('d009488d')\n",
    "driver.find_element_by_id('u_0_2').click()\n",
    "\n",
    "\n"
   ]
  },
  {
   "cell_type": "code",
   "execution_count": 25,
   "metadata": {},
   "outputs": [],
   "source": [
    "driver = webdriver.Chrome(\n",
    " executable_path = '../python/chromedriver.exe'\n",
    ")\n",
    "url = \"https://www.google.com/\"\n",
    "\n",
    "driver.get(url)\n",
    "driver.find_element_by_xpath('//*[@id=\"tsf\"]/div[2]/div[1]/div[1]/div/div[2]/input').send_keys(\"어드벤텍\")\n",
    "driver.find_element_by_class_name('gNO89b').click() \n"
   ]
  },
  {
   "cell_type": "code",
   "execution_count": 27,
   "metadata": {},
   "outputs": [],
   "source": [
    "driver = webdriver.Chrome(\n",
    "  executable_path=\"../python/chromedriver.exe\"\n",
    ")\n",
    "\n",
    "url = \"https://www.naver.com/\"\n",
    "\n",
    "driver.get(url)\n",
    "driver.find_element_by_id('query').send_keys('아이폰 11pro')\n",
    "driver.find_element_by_xpath('//*[@id=\"search_btn\"]').click()"
   ]
  }
 ],
 "metadata": {
  "kernelspec": {
   "display_name": "Python 3",
   "language": "python",
   "name": "python3"
  },
  "language_info": {
   "codemirror_mode": {
    "name": "ipython",
    "version": 3
   },
   "file_extension": ".py",
   "mimetype": "text/x-python",
   "name": "python",
   "nbconvert_exporter": "python",
   "pygments_lexer": "ipython3",
   "version": "3.7.4"
  }
 },
 "nbformat": 4,
 "nbformat_minor": 2
}
